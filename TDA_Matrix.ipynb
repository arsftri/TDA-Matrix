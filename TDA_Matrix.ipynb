{
 "cells": [
  {
   "cell_type": "code",
   "execution_count": 25,
   "id": "2c1ac40d",
   "metadata": {},
   "outputs": [],
   "source": [
    "#MEMBUAT MATRIX DARI ARRAY 2 DIMENSI\n",
    "from TDA_Array2d import Array2d"
   ]
  },
  {
   "cell_type": "code",
   "execution_count": 156,
   "id": "6251d248",
   "metadata": {},
   "outputs": [],
   "source": [
    "class Matrix : \n",
    "    # Creates a matrix of size numRows x numCols initialized to 0.\n",
    "    def __init__(self, numRows, numCols):\n",
    "        \n",
    "        # Create a 2-D array to store elements of the matrix in theGrid\n",
    "        self._theGrid = Array2d(numRows, numCols)\n",
    "    \n",
    "        # Initialize the grid with zeros\n",
    "        for r in range(numRows):\n",
    "            for c in range(numCols):\n",
    "                self._theGrid[r, c] = 0\n",
    "    \n",
    "    # Creates a matrix of size numRows x numCols initialized to 0. \n",
    "    def __init__( self, numRows, numCols ):\n",
    "        # Create a 2-D array to store element of matrix in theGrid\n",
    "        self._theGrid = Array2d( numRows , numCols )\n",
    "        self._theGrid .clear(0)\n",
    "        \n",
    "    # Returns the number of rows in the matrix.\n",
    "    def numRows( self ):\n",
    "        return self._theGrid.numRows()\n",
    "   \n",
    "    # Returns the number of columns in the matrix.\n",
    "    def numCols( self ): \n",
    "        return self._theGrid.numCols() \n",
    "    \n",
    "    # Returns the value of element (i, j): x[i,j]\n",
    "    def __getitem__( self, ndxTuple ):\n",
    "        assert len(ndxTuple) == 2, \"Invalid number of array subscripts.\" #==2 menentukan dimensi dari array yang akan dibuat\n",
    "        return self._theGrid[ ndxTuple[0], ndxTuple[1] ]\n",
    "    \n",
    "    # Sets the value of element (i,j) to the value s: x[i,j] = s\n",
    "    def __setitem__( self, ndxTuple, scalar ):\n",
    "        assert len(ndxTuple) == 2, \"Invalid number of array subscripts.\"\n",
    "        self._theGrid[ ndxTuple[0], ndxTuple[1] ] = scalar #yang ada didalam kurung siku itu adalah tuple yg harus ada nilainya\n",
    "        \n",
    "    #operasi matriks\n",
    "    # Creates and returns a new matrix that results from matrix addition.\n",
    "    def __add__( self, rhsMatrix ):\n",
    "        assert rhsMatrix.numRows() == self.numRows() and rhsMatrix.numCols() == self.numCols() \n",
    "    \n",
    "        # Create the new matrix. \n",
    "        newMatrix = Matrix( self.numRows(), self.numCols() )\n",
    "\n",
    "        # Add the corresponding elements in the two matrices. \n",
    "        for r in range( self.numRows() ) :\n",
    "            for c in range( self.numCols() ) :\n",
    "                newMatrix[ r, c ] = self[ r, c ] + rhsMatrix[ r, c ]\n",
    "        return newMatrix\n",
    "    \n",
    "    # Creates and returns a new matrix that results from matrix substraction.\n",
    "    def __sub__( self, rhsMatrix ):\n",
    "\n",
    "        # Create the new matrix. \n",
    "        newMatrix = Matrix( self.numRows(), self.numCols() )\n",
    "\n",
    "        # Add the corresponding elements in the two matrices. \n",
    "        for r in range( self.numRows() ) :\n",
    "            for c in range( self.numCols() ) :\n",
    "                newMatrix[ r, c ] = self[ r, c ] - rhsMatrix[ r, c ]\n",
    "        return newMatrix\n",
    "    \n",
    "    # Creates and returns a new matrix that results from matrix multiplication.\n",
    "    def __mul__( self, rhsMatrix ):\n",
    "        assert self.numCols() == rhsMatrix.numRows()\n",
    "\n",
    "        # Create the new matrix with the appropriate dimensions.\\n\",\n",
    "        resultMatrix = Matrix(self.numRows(), rhsMatrix.numCols())\n",
    "        for i in range(self.numRows()):\n",
    "            for j in range(rhsMatrix.numCols()):\n",
    "                total = 0\n",
    "                for k in range(self.numCols()):\n",
    "                    total += self[i, k] * rhsMatrix[k, j]\n",
    "                resultMatrix[i, j] = total\n",
    "            return resultMatrix\n",
    "    \n",
    "    # Scales the matrix by the given scalar\n",
    "    def scaleBy(self, scalar):\n",
    "        for r in range(self.numRows()):\n",
    "            for c in range(self.numCols()):\n",
    "                self[r, c] *= scalar\n",
    "\n",
    "    # Transpose the matrix \n",
    "    def transpose( self ):\n",
    "        # Create a new matrix with swapped dimensions.\n",
    "        transposedMatrix = Matrix(self.numCols(), self.numRows())\n",
    "        \n",
    "        for r in range(self.numRows()):\n",
    "            for c in range(self.numCols()):\n",
    "                transposedMatrix[c, r] = self[r, c]\n",
    "        return transposedMatrix\n",
    "    \n",
    "    # fill in the matrix by the given scalar. \n",
    "    def fillBy( self, scalar ):\n",
    "        for r in range( self.numRows() ) :\n",
    "            for c in range( self.numCols() ) : \n",
    "                self[ r, c ] = scalar\n",
    "    \n",
    "    # print out the matrix\n",
    "    def print( self ):\n",
    "        for r in range( self.numRows() ) :\n",
    "            for c in range( self.numCols() ) : \n",
    "                print(\"%11.3f\"%self[ r, c ], end=' ')\n",
    "            print()\n",
    "    "
   ]
  },
  {
   "cell_type": "code",
   "execution_count": 157,
   "id": "16b5a83f",
   "metadata": {},
   "outputs": [],
   "source": [
    "A= Matrix(2,4)\n",
    "B= Matrix(2,4)"
   ]
  },
  {
   "cell_type": "code",
   "execution_count": 160,
   "id": "55f516a3",
   "metadata": {},
   "outputs": [],
   "source": [
    "A.fillBy(34)\n",
    "B.fillBy(4)"
   ]
  },
  {
   "cell_type": "code",
   "execution_count": 161,
   "id": "9c66ca88",
   "metadata": {},
   "outputs": [
    {
     "name": "stdout",
     "output_type": "stream",
     "text": [
      "     34.000      34.000      34.000      34.000 \n",
      "     34.000      34.000      34.000      34.000 \n"
     ]
    }
   ],
   "source": [
    "A.print()"
   ]
  },
  {
   "cell_type": "code",
   "execution_count": 162,
   "id": "acaebb32",
   "metadata": {},
   "outputs": [
    {
     "name": "stdout",
     "output_type": "stream",
     "text": [
      "      4.000       4.000       4.000       4.000 \n",
      "      4.000       4.000       4.000       4.000 \n"
     ]
    }
   ],
   "source": [
    "B.print()"
   ]
  },
  {
   "cell_type": "code",
   "execution_count": 163,
   "id": "11c86df1",
   "metadata": {},
   "outputs": [],
   "source": [
    "C=A+B"
   ]
  },
  {
   "cell_type": "code",
   "execution_count": 164,
   "id": "520921e0",
   "metadata": {},
   "outputs": [
    {
     "name": "stdout",
     "output_type": "stream",
     "text": [
      "     38.000      38.000      38.000      38.000 \n",
      "     38.000      38.000      38.000      38.000 \n"
     ]
    }
   ],
   "source": [
    "C.print()"
   ]
  },
  {
   "cell_type": "code",
   "execution_count": 165,
   "id": "0deb0447",
   "metadata": {},
   "outputs": [],
   "source": [
    "D=A-B"
   ]
  },
  {
   "cell_type": "code",
   "execution_count": 166,
   "id": "6e5f077f",
   "metadata": {},
   "outputs": [
    {
     "name": "stdout",
     "output_type": "stream",
     "text": [
      "     30.000      30.000      30.000      30.000 \n",
      "     30.000      30.000      30.000      30.000 \n"
     ]
    }
   ],
   "source": [
    "D.print()"
   ]
  },
  {
   "cell_type": "code",
   "execution_count": 167,
   "id": "240c2e6c",
   "metadata": {},
   "outputs": [],
   "source": [
    "D.scaleBy(22)"
   ]
  },
  {
   "cell_type": "code",
   "execution_count": 168,
   "id": "07f16ec6",
   "metadata": {},
   "outputs": [
    {
     "name": "stdout",
     "output_type": "stream",
     "text": [
      "    660.000     660.000     660.000     660.000 \n",
      "    660.000     660.000     660.000     660.000 \n"
     ]
    }
   ],
   "source": [
    "D.print()"
   ]
  },
  {
   "cell_type": "code",
   "execution_count": 169,
   "id": "d8f6b683",
   "metadata": {},
   "outputs": [
    {
     "data": {
      "text/plain": [
       "<__main__.Matrix at 0x277c1edf290>"
      ]
     },
     "execution_count": 169,
     "metadata": {},
     "output_type": "execute_result"
    }
   ],
   "source": [
    "B.transpose()"
   ]
  },
  {
   "cell_type": "code",
   "execution_count": 186,
   "id": "909fe30f",
   "metadata": {},
   "outputs": [],
   "source": [
    "import numpy as np\n",
    "A= np.array([[34,34], [34,34]])\n",
    "B= np.array([[34,34], [34,34]])"
   ]
  },
  {
   "cell_type": "code",
   "execution_count": 187,
   "id": "a4021412",
   "metadata": {},
   "outputs": [],
   "source": [
    "E= A.dot(B)"
   ]
  },
  {
   "cell_type": "code",
   "execution_count": 188,
   "id": "1597c9ea",
   "metadata": {},
   "outputs": [
    {
     "name": "stdout",
     "output_type": "stream",
     "text": [
      "[[2312 2312]\n",
      " [2312 2312]]\n"
     ]
    }
   ],
   "source": [
    "print(E)"
   ]
  }
 ],
 "metadata": {
  "kernelspec": {
   "display_name": "Python 3 (ipykernel)",
   "language": "python",
   "name": "python3"
  },
  "language_info": {
   "codemirror_mode": {
    "name": "ipython",
    "version": 3
   },
   "file_extension": ".py",
   "mimetype": "text/x-python",
   "name": "python",
   "nbconvert_exporter": "python",
   "pygments_lexer": "ipython3",
   "version": "3.11.5"
  }
 },
 "nbformat": 4,
 "nbformat_minor": 5
}
